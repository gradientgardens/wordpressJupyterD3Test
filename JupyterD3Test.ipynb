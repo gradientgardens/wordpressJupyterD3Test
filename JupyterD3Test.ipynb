{
 "cells": [
  {
   "cell_type": "code",
   "execution_count": 2,
   "metadata": {},
   "outputs": [],
   "source": [
    "from IPython.display import display, Javascript, HTML\n",
    "import json"
   ]
  },
  {
   "cell_type": "code",
   "execution_count": 3,
   "metadata": {},
   "outputs": [
    {
     "data": {
      "application/javascript": [
       "require.config({paths: {d3: 'https://d3js.org/d3.v5.min'}});"
      ],
      "text/plain": [
       "<IPython.core.display.Javascript object>"
      ]
     },
     "metadata": {},
     "output_type": "display_data"
    },
    {
     "data": {
      "application/javascript": [
       "define('circles', ['d3'], function (d3) {\n",
       "    function draw(container, data) {\n",
       "        var svg = d3.select(container).append(\"svg\")\n",
       "        .attr('width', 400)\n",
       "        .attr('height', 200)\n",
       "\n",
       "    svg.selectAll('circle')\n",
       "        .data(data)\n",
       "        .enter()\n",
       "        .append('circle')\n",
       "        .attr(\"cx\", function(d, i) {return 40 * (i + 1);})\n",
       "        .attr(\"cy\", function(d, i) {return 100 + 30 * (i % 3 - 1)})\n",
       "        .style(\"fill\", \"#1570a4\")\n",
       "        .transition().duration(2000)\n",
       "        .attr(\"r\", function(d) {return 2*d})\n",
       "    \n",
       "    }\n",
       "    return draw;\n",
       "});"
      ],
      "text/plain": [
       "<IPython.core.display.Javascript object>"
      ]
     },
     "metadata": {},
     "output_type": "display_data"
    },
    {
     "data": {
      "text/html": [
       "<style>\n",
       "    svg circle {\n",
       "      stroke: #16527b;\n",
       "      stroke-width: 1px;\n",
       "    }\n",
       "    </style>"
      ],
      "text/plain": [
       "<IPython.core.display.HTML object>"
      ]
     },
     "metadata": {},
     "output_type": "display_data"
    }
   ],
   "source": [
    "display(Javascript(\"require.config({paths: {d3: 'https://d3js.org/d3.v5.min'}});\"))\n",
    "display(Javascript(filename=\"circles.js\"))\n",
    "display(HTML(filename=\"circles.css.html\"))"
   ]
  },
  {
   "cell_type": "code",
   "execution_count": 4,
   "metadata": {},
   "outputs": [],
   "source": [
    "def draw_circles(data, width=600, height=400):\n",
    "    display(Javascript(\"\"\"\n",
    "        (function(element){\n",
    "            require(['circles'], function(circles) {\n",
    "                circles(element.get(0), %s, %d, %d);\n",
    "            });\n",
    "        })(element);\n",
    "    \"\"\" % (json.dumps(data), width, height)))"
   ]
  },
  {
   "cell_type": "code",
   "execution_count": 5,
   "metadata": {},
   "outputs": [
    {
     "data": {
      "application/javascript": [
       "\n",
       "        (function(element){\n",
       "            require(['circles'], function(circles) {\n",
       "                circles(element.get(0), [10, 60, 40, 5, 30, 10], 500, 200);\n",
       "            });\n",
       "        })(element);\n",
       "    "
      ],
      "text/plain": [
       "<IPython.core.display.Javascript object>"
      ]
     },
     "metadata": {},
     "output_type": "display_data"
    }
   ],
   "source": [
    "draw_circles([10, 60, 40, 5, 30, 10], width=500, height=200)"
   ]
  }
 ],
 "metadata": {
  "kernelspec": {
   "display_name": "Python 3",
   "language": "python",
   "name": "python3"
  },
  "language_info": {
   "codemirror_mode": {
    "name": "ipython",
    "version": 3
   },
   "file_extension": ".py",
   "mimetype": "text/x-python",
   "name": "python",
   "nbconvert_exporter": "python",
   "pygments_lexer": "ipython3",
   "version": "3.7.3"
  }
 },
 "nbformat": 4,
 "nbformat_minor": 2
}
